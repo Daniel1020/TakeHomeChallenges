{
 "cells": [
  {
   "cell_type": "code",
   "execution_count": 15,
   "metadata": {},
   "outputs": [],
   "source": [
    "import os\n",
    "import numpy as np\n",
    "import pandas as pd\n",
    "import seaborn as sns\n",
    "import matplotlib.pyplot as plt\n",
    "from scipy.stats import ttest_ind\n",
    "plt.style.use(\"ggplot\")\n",
    "import datetime as dt\n",
    "\n",
    "%matplotlib inline"
   ]
  },
  {
   "cell_type": "code",
   "execution_count": 3,
   "metadata": {},
   "outputs": [
    {
     "data": {
      "text/plain": [
       "'/Users/Daniel1020/Documents/Business Analytics/Python/Project'"
      ]
     },
     "execution_count": 3,
     "metadata": {},
     "output_type": "execute_result"
    }
   ],
   "source": [
    "os.getcwd()"
   ]
  },
  {
   "cell_type": "code",
   "execution_count": 7,
   "metadata": {},
   "outputs": [],
   "source": [
    "os.chdir('/Users/Daniel1020/Downloads')"
   ]
  },
  {
   "cell_type": "code",
   "execution_count": 12,
   "metadata": {},
   "outputs": [],
   "source": [
    "data = pd.read_csv('referral.csv',parse_dates=['date'])"
   ]
  },
  {
   "cell_type": "code",
   "execution_count": 13,
   "metadata": {},
   "outputs": [
    {
     "name": "stdout",
     "output_type": "stream",
     "text": [
      "<class 'pandas.core.frame.DataFrame'>\n",
      "RangeIndex: 97341 entries, 0 to 97340\n",
      "Data columns (total 6 columns):\n",
      "user_id        97341 non-null int64\n",
      "date           97341 non-null datetime64[ns]\n",
      "country        97341 non-null object\n",
      "money_spent    97341 non-null int64\n",
      "is_referral    97341 non-null int64\n",
      "device_id      97341 non-null object\n",
      "dtypes: datetime64[ns](1), int64(3), object(2)\n",
      "memory usage: 4.5+ MB\n"
     ]
    }
   ],
   "source": [
    "data.info()"
   ]
  },
  {
   "cell_type": "code",
   "execution_count": 14,
   "metadata": {},
   "outputs": [
    {
     "data": {
      "text/html": [
       "<div>\n",
       "<style scoped>\n",
       "    .dataframe tbody tr th:only-of-type {\n",
       "        vertical-align: middle;\n",
       "    }\n",
       "\n",
       "    .dataframe tbody tr th {\n",
       "        vertical-align: top;\n",
       "    }\n",
       "\n",
       "    .dataframe thead th {\n",
       "        text-align: right;\n",
       "    }\n",
       "</style>\n",
       "<table border=\"1\" class=\"dataframe\">\n",
       "  <thead>\n",
       "    <tr style=\"text-align: right;\">\n",
       "      <th></th>\n",
       "      <th>user_id</th>\n",
       "      <th>date</th>\n",
       "      <th>country</th>\n",
       "      <th>money_spent</th>\n",
       "      <th>is_referral</th>\n",
       "      <th>device_id</th>\n",
       "    </tr>\n",
       "  </thead>\n",
       "  <tbody>\n",
       "    <tr>\n",
       "      <th>0</th>\n",
       "      <td>2</td>\n",
       "      <td>2015-10-03</td>\n",
       "      <td>FR</td>\n",
       "      <td>65</td>\n",
       "      <td>0</td>\n",
       "      <td>EVDCJTZMVMJDG</td>\n",
       "    </tr>\n",
       "    <tr>\n",
       "      <th>1</th>\n",
       "      <td>3</td>\n",
       "      <td>2015-10-03</td>\n",
       "      <td>CA</td>\n",
       "      <td>54</td>\n",
       "      <td>0</td>\n",
       "      <td>WUBZFTVKXGQQX</td>\n",
       "    </tr>\n",
       "    <tr>\n",
       "      <th>2</th>\n",
       "      <td>6</td>\n",
       "      <td>2015-10-03</td>\n",
       "      <td>FR</td>\n",
       "      <td>35</td>\n",
       "      <td>0</td>\n",
       "      <td>CBAPCJRTFNUJG</td>\n",
       "    </tr>\n",
       "    <tr>\n",
       "      <th>3</th>\n",
       "      <td>7</td>\n",
       "      <td>2015-10-03</td>\n",
       "      <td>UK</td>\n",
       "      <td>73</td>\n",
       "      <td>0</td>\n",
       "      <td>PRGXJZAJKMXRH</td>\n",
       "    </tr>\n",
       "    <tr>\n",
       "      <th>4</th>\n",
       "      <td>7</td>\n",
       "      <td>2015-10-03</td>\n",
       "      <td>MX</td>\n",
       "      <td>35</td>\n",
       "      <td>0</td>\n",
       "      <td>PRGXJZAJKMXRH</td>\n",
       "    </tr>\n",
       "  </tbody>\n",
       "</table>\n",
       "</div>"
      ],
      "text/plain": [
       "   user_id       date country  money_spent  is_referral      device_id\n",
       "0        2 2015-10-03      FR           65            0  EVDCJTZMVMJDG\n",
       "1        3 2015-10-03      CA           54            0  WUBZFTVKXGQQX\n",
       "2        6 2015-10-03      FR           35            0  CBAPCJRTFNUJG\n",
       "3        7 2015-10-03      UK           73            0  PRGXJZAJKMXRH\n",
       "4        7 2015-10-03      MX           35            0  PRGXJZAJKMXRH"
      ]
     },
     "execution_count": 14,
     "metadata": {},
     "output_type": "execute_result"
    }
   ],
   "source": [
    "data.head()"
   ]
  },
  {
   "cell_type": "markdown",
   "metadata": {},
   "source": [
    "# Data Processing"
   ]
  },
  {
   "cell_type": "code",
   "execution_count": 20,
   "metadata": {},
   "outputs": [],
   "source": [
    "referral_starts=dt.datetime(2015,10,31)"
   ]
  },
  {
   "cell_type": "code",
   "execution_count": 17,
   "metadata": {},
   "outputs": [
    {
     "data": {
      "text/plain": [
       "count                   97341\n",
       "unique                     56\n",
       "top       2015-11-14 00:00:00\n",
       "freq                     3303\n",
       "first     2015-10-03 00:00:00\n",
       "last      2015-11-27 00:00:00\n",
       "Name: date, dtype: object"
      ]
     },
     "execution_count": 17,
     "metadata": {},
     "output_type": "execute_result"
    }
   ],
   "source": [
    "data.date.describe()"
   ]
  },
  {
   "cell_type": "code",
   "execution_count": 21,
   "metadata": {},
   "outputs": [
    {
     "data": {
      "text/plain": [
       "True     28\n",
       "False    28\n",
       "dtype: int64"
      ]
     },
     "execution_count": 21,
     "metadata": {},
     "output_type": "execute_result"
    }
   ],
   "source": [
    "(pd.Series(data.date.unique())>=referral_starts).value_counts()"
   ]
  },
  {
   "cell_type": "markdown",
   "metadata": {},
   "source": [
    "#### we realize that actully some dates are before the started dates, and some are behind the date"
   ]
  },
  {
   "cell_type": "code",
   "execution_count": 22,
   "metadata": {},
   "outputs": [],
   "source": [
    "data['dateofweek']=data['date'].apply(lambda x: x.dayofweek)"
   ]
  },
  {
   "cell_type": "markdown",
   "metadata": {},
   "source": [
    "# Data Visualization"
   ]
  },
  {
   "cell_type": "code",
   "execution_count": 26,
   "metadata": {},
   "outputs": [
    {
     "data": {
      "image/png": "[encoded data removed]",
      "text/plain": [
       "<Figure size 1296x864 with 2 Axes>"
      ]
     },
     "metadata": {},
     "output_type": "display_data"
    }
   ],
   "source": [
    "#Daily money spend visulization\n",
    "fig,ax= plt.subplots(nrows=2,ncols=1,figsize=(18,12))\n",
    "sns.countplot(x='date',hue='is_referral',data=data,ax=ax[0])\n",
    "ax[0].set_ylabel('Daily Transaction Number',fontsize=12)\n",
    "\n",
    "sns.barplot(x='date',y='money_spent',hue='is_referral',data=data,ax=ax[1])\n",
    "ax[1].set_ylabel('Daily Transaction Amount',fontsize=12)\n",
    "plt.tight_layout()\n",
    "plt.show()"
   ]
  },
  {
   "cell_type": "code",
   "execution_count": 28,
   "metadata": {},
   "outputs": [
    {
     "data": {
      "image/png": "[encoded data removed]",
      "text/plain": [
       "<Figure size 1296x864 with 2 Axes>"
      ]
     },
     "metadata": {},
     "output_type": "display_data"
    }
   ],
   "source": [
    "# Spent by Country visualization\n",
    "fig,ax= plt.subplots(nrows=2,ncols=1,figsize=(18,12))\n",
    "sns.countplot(x='country',hue='is_referral',data=data,ax=ax[0])\n",
    "ax[0].set_ylabel('Transaction Number by Country',fontsize=12)\n",
    "\n",
    "sns.barplot(x='country',y='money_spent',hue='is_referral',data=data,ax=ax[1])\n",
    "ax[1].set_ylabel('Transaction Amount by Country',fontsize=12)\n",
    "plt.tight_layout()\n",
    "plt.show()"
   ]
  },
  {
   "cell_type": "code",
   "execution_count": 31,
   "metadata": {},
   "outputs": [
    {
     "data": {
      "image/png": "[encoded data removed]",
      "text/plain": [
       "<Figure size 1296x864 with 2 Axes>"
      ]
     },
     "metadata": {},
     "output_type": "display_data"
    }
   ],
   "source": [
    "# Spent by dayofweek visualization\n",
    "fig,ax= plt.subplots(nrows=2,ncols=1,figsize=(18,12))\n",
    "sns.countplot(x='dateofweek',hue='is_referral',data=data,ax=ax[0])\n",
    "ax[0].set_ylabel('Transaction Number by Country',fontsize=12)\n",
    "\n",
    "sns.barplot(x='dateofweek',y='money_spent',hue='is_referral',data=data,ax=ax[1])\n",
    "ax[1].set_ylabel('Transaction Amount by Country',fontsize=12)\n",
    "plt.tight_layout()\n",
    "plt.show()"
   ]
  },
  {
   "cell_type": "markdown",
   "metadata": {},
   "source": [
    "# Data Analysis"
   ]
  },
  {
   "cell_type": "markdown",
   "metadata": {},
   "source": [
    "## Daily Analysis"
   ]
  },
  {
   "cell_type": "code",
   "execution_count": 34,
   "metadata": {},
   "outputs": [],
   "source": [
    "def basic_stat(df):\n",
    "    no_purchase = len(df)\n",
    "    money_spent = df['money_spent'].sum()\n",
    "    unique_user = len(df['user_id'].unique())\n",
    "    \n",
    "    return pd.Series([no_purchase,money_spent,unique_user],\n",
    "                    index = ['no_purchase','money_spent','unique_user'])"
   ]
  },
  {
   "cell_type": "code",
   "execution_count": null,
   "metadata": {},
   "outputs": [],
   "source": []
  },
  {
   "cell_type": "code",
   "execution_count": 55,
   "metadata": {},
   "outputs": [],
   "source": [
    "def daily_stat(df):\n",
    "    grouped = df.groupby('date').apply(basic_stat)\n",
    "    \n",
    "    ref = grouped.loc[grouped.index < referral_starts,:]\n",
    "    new = grouped.loc[grouped.index>=referral_starts,:]\n",
    "    \n",
    "    \n",
    "    names = ['no_purchase','money_spent','unique_user']\n",
    "    vals = []\n",
    "    \n",
    "    for name in names :\n",
    "        pre_data = ref[name].values\n",
    "        pre_mean = pre_data.mean()\n",
    "        \n",
    "        post_data = new[name].values\n",
    "        post_mean = post_data.mean()\n",
    "        \n",
    "        p_value= ttest_ind(pre_data,post_data,equal_var=False)[1]/2\n",
    "        \n",
    "        vals.append({'pre_mean':pre_mean,'post_mean':post_mean,'mean_diff':post_mean - pre_mean,\n",
    "                    'pvalue':p_value})\n",
    "        \n",
    "    return pd.DataFrame(vals,index=names).loc[:,['pre_mean','post_mean','mean_diff','pvalue']]"
   ]
  },
  {
   "cell_type": "code",
   "execution_count": 56,
   "metadata": {},
   "outputs": [
    {
     "data": {
      "text/html": [
       "<div>\n",
       "<style scoped>\n",
       "    .dataframe tbody tr th:only-of-type {\n",
       "        vertical-align: middle;\n",
       "    }\n",
       "\n",
       "    .dataframe tbody tr th {\n",
       "        vertical-align: top;\n",
       "    }\n",
       "\n",
       "    .dataframe thead th {\n",
       "        text-align: right;\n",
       "    }\n",
       "</style>\n",
       "<table border=\"1\" class=\"dataframe\">\n",
       "  <thead>\n",
       "    <tr style=\"text-align: right;\">\n",
       "      <th></th>\n",
       "      <th>pre_mean</th>\n",
       "      <th>post_mean</th>\n",
       "      <th>mean_diff</th>\n",
       "      <th>pvalue</th>\n",
       "    </tr>\n",
       "  </thead>\n",
       "  <tbody>\n",
       "    <tr>\n",
       "      <th>no_purchase</th>\n",
       "      <td>1690.750000</td>\n",
       "      <td>1785.714286</td>\n",
       "      <td>94.964286</td>\n",
       "      <td>0.348257</td>\n",
       "    </tr>\n",
       "    <tr>\n",
       "      <th>money_spent</th>\n",
       "      <td>71657.000000</td>\n",
       "      <td>83714.392857</td>\n",
       "      <td>12057.392857</td>\n",
       "      <td>0.135194</td>\n",
       "    </tr>\n",
       "    <tr>\n",
       "      <th>unique_user</th>\n",
       "      <td>1384.464286</td>\n",
       "      <td>1686.964286</td>\n",
       "      <td>302.500000</td>\n",
       "      <td>0.059545</td>\n",
       "    </tr>\n",
       "  </tbody>\n",
       "</table>\n",
       "</div>"
      ],
      "text/plain": [
       "                 pre_mean     post_mean     mean_diff    pvalue\n",
       "no_purchase   1690.750000   1785.714286     94.964286  0.348257\n",
       "money_spent  71657.000000  83714.392857  12057.392857  0.135194\n",
       "unique_user   1384.464286   1686.964286    302.500000  0.059545"
      ]
     },
     "execution_count": 56,
     "metadata": {},
     "output_type": "execute_result"
    }
   ],
   "source": [
    "daily_stat(data)"
   ]
  },
  {
   "cell_type": "markdown",
   "metadata": {},
   "source": [
    "## By-Country Analysis"
   ]
  },
  {
   "cell_type": "code",
   "execution_count": 59,
   "metadata": {},
   "outputs": [
    {
     "data": {
      "text/html": [
       "<div>\n",
       "<style scoped>\n",
       "    .dataframe tbody tr th:only-of-type {\n",
       "        vertical-align: middle;\n",
       "    }\n",
       "\n",
       "    .dataframe tbody tr th {\n",
       "        vertical-align: top;\n",
       "    }\n",
       "\n",
       "    .dataframe thead th {\n",
       "        text-align: right;\n",
       "    }\n",
       "</style>\n",
       "<table border=\"1\" class=\"dataframe\">\n",
       "  <thead>\n",
       "    <tr style=\"text-align: right;\">\n",
       "      <th></th>\n",
       "      <th></th>\n",
       "      <th>pre_mean</th>\n",
       "      <th>post_mean</th>\n",
       "      <th>mean_diff</th>\n",
       "      <th>pvalue</th>\n",
       "    </tr>\n",
       "    <tr>\n",
       "      <th>country</th>\n",
       "      <th></th>\n",
       "      <th></th>\n",
       "      <th></th>\n",
       "      <th></th>\n",
       "      <th></th>\n",
       "    </tr>\n",
       "  </thead>\n",
       "  <tbody>\n",
       "    <tr>\n",
       "      <th rowspan=\"3\" valign=\"top\">CA</th>\n",
       "      <th>no_purchase</th>\n",
       "      <td>177.142857</td>\n",
       "      <td>160.000000</td>\n",
       "      <td>-17.142857</td>\n",
       "      <td>0.233985</td>\n",
       "    </tr>\n",
       "    <tr>\n",
       "      <th>money_spent</th>\n",
       "      <td>7468.428571</td>\n",
       "      <td>7880.428571</td>\n",
       "      <td>412.000000</td>\n",
       "      <td>0.351704</td>\n",
       "    </tr>\n",
       "    <tr>\n",
       "      <th>unique_user</th>\n",
       "      <td>173.285714</td>\n",
       "      <td>159.178571</td>\n",
       "      <td>-14.107143</td>\n",
       "      <td>0.268256</td>\n",
       "    </tr>\n",
       "    <tr>\n",
       "      <th rowspan=\"3\" valign=\"top\">CH</th>\n",
       "      <th>no_purchase</th>\n",
       "      <td>26.821429</td>\n",
       "      <td>17.071429</td>\n",
       "      <td>-9.750000</td>\n",
       "      <td>0.003072</td>\n",
       "    </tr>\n",
       "    <tr>\n",
       "      <th>money_spent</th>\n",
       "      <td>1536.321429</td>\n",
       "      <td>1023.892857</td>\n",
       "      <td>-512.428571</td>\n",
       "      <td>0.006941</td>\n",
       "    </tr>\n",
       "    <tr>\n",
       "      <th>unique_user</th>\n",
       "      <td>26.714286</td>\n",
       "      <td>17.071429</td>\n",
       "      <td>-9.642857</td>\n",
       "      <td>0.003142</td>\n",
       "    </tr>\n",
       "    <tr>\n",
       "      <th rowspan=\"3\" valign=\"top\">DE</th>\n",
       "      <th>no_purchase</th>\n",
       "      <td>232.142857</td>\n",
       "      <td>164.035714</td>\n",
       "      <td>-68.107143</td>\n",
       "      <td>0.011798</td>\n",
       "    </tr>\n",
       "    <tr>\n",
       "      <th>money_spent</th>\n",
       "      <td>9856.750000</td>\n",
       "      <td>8013.964286</td>\n",
       "      <td>-1842.785714</td>\n",
       "      <td>0.081459</td>\n",
       "    </tr>\n",
       "    <tr>\n",
       "      <th>unique_user</th>\n",
       "      <td>224.964286</td>\n",
       "      <td>163.250000</td>\n",
       "      <td>-61.714286</td>\n",
       "      <td>0.015665</td>\n",
       "    </tr>\n",
       "    <tr>\n",
       "      <th rowspan=\"3\" valign=\"top\">ES</th>\n",
       "      <th>no_purchase</th>\n",
       "      <td>156.607143</td>\n",
       "      <td>194.500000</td>\n",
       "      <td>37.892857</td>\n",
       "      <td>0.072638</td>\n",
       "    </tr>\n",
       "    <tr>\n",
       "      <th>money_spent</th>\n",
       "      <td>6648.642857</td>\n",
       "      <td>8660.571429</td>\n",
       "      <td>2011.928571</td>\n",
       "      <td>0.037522</td>\n",
       "    </tr>\n",
       "    <tr>\n",
       "      <th>unique_user</th>\n",
       "      <td>153.392857</td>\n",
       "      <td>193.214286</td>\n",
       "      <td>39.821429</td>\n",
       "      <td>0.057954</td>\n",
       "    </tr>\n",
       "    <tr>\n",
       "      <th rowspan=\"3\" valign=\"top\">FR</th>\n",
       "      <th>no_purchase</th>\n",
       "      <td>244.142857</td>\n",
       "      <td>305.714286</td>\n",
       "      <td>61.571429</td>\n",
       "      <td>0.058996</td>\n",
       "    </tr>\n",
       "    <tr>\n",
       "      <th>money_spent</th>\n",
       "      <td>10385.250000</td>\n",
       "      <td>13635.000000</td>\n",
       "      <td>3249.750000</td>\n",
       "      <td>0.031843</td>\n",
       "    </tr>\n",
       "    <tr>\n",
       "      <th>unique_user</th>\n",
       "      <td>236.500000</td>\n",
       "      <td>302.535714</td>\n",
       "      <td>66.035714</td>\n",
       "      <td>0.041124</td>\n",
       "    </tr>\n",
       "    <tr>\n",
       "      <th rowspan=\"3\" valign=\"top\">IT</th>\n",
       "      <th>no_purchase</th>\n",
       "      <td>180.857143</td>\n",
       "      <td>227.928571</td>\n",
       "      <td>47.071429</td>\n",
       "      <td>0.057454</td>\n",
       "    </tr>\n",
       "    <tr>\n",
       "      <th>money_spent</th>\n",
       "      <td>7651.571429</td>\n",
       "      <td>10193.428571</td>\n",
       "      <td>2541.857143</td>\n",
       "      <td>0.025730</td>\n",
       "    </tr>\n",
       "    <tr>\n",
       "      <th>unique_user</th>\n",
       "      <td>176.535714</td>\n",
       "      <td>226.107143</td>\n",
       "      <td>49.571429</td>\n",
       "      <td>0.043911</td>\n",
       "    </tr>\n",
       "    <tr>\n",
       "      <th rowspan=\"3\" valign=\"top\">MX</th>\n",
       "      <th>no_purchase</th>\n",
       "      <td>126.464286</td>\n",
       "      <td>164.000000</td>\n",
       "      <td>37.535714</td>\n",
       "      <td>0.032430</td>\n",
       "    </tr>\n",
       "    <tr>\n",
       "      <th>money_spent</th>\n",
       "      <td>4975.464286</td>\n",
       "      <td>7033.214286</td>\n",
       "      <td>2057.750000</td>\n",
       "      <td>0.009670</td>\n",
       "    </tr>\n",
       "    <tr>\n",
       "      <th>unique_user</th>\n",
       "      <td>124.392857</td>\n",
       "      <td>163.107143</td>\n",
       "      <td>38.714286</td>\n",
       "      <td>0.026203</td>\n",
       "    </tr>\n",
       "    <tr>\n",
       "      <th rowspan=\"3\" valign=\"top\">UK</th>\n",
       "      <th>no_purchase</th>\n",
       "      <td>264.285714</td>\n",
       "      <td>289.035714</td>\n",
       "      <td>24.750000</td>\n",
       "      <td>0.261183</td>\n",
       "    </tr>\n",
       "    <tr>\n",
       "      <th>money_spent</th>\n",
       "      <td>11213.535714</td>\n",
       "      <td>14196.428571</td>\n",
       "      <td>2982.892857</td>\n",
       "      <td>0.048490</td>\n",
       "    </tr>\n",
       "    <tr>\n",
       "      <th>unique_user</th>\n",
       "      <td>255.571429</td>\n",
       "      <td>286.321429</td>\n",
       "      <td>30.750000</td>\n",
       "      <td>0.204398</td>\n",
       "    </tr>\n",
       "    <tr>\n",
       "      <th rowspan=\"3\" valign=\"top\">US</th>\n",
       "      <th>no_purchase</th>\n",
       "      <td>282.285714</td>\n",
       "      <td>263.428571</td>\n",
       "      <td>-18.857143</td>\n",
       "      <td>0.307801</td>\n",
       "    </tr>\n",
       "    <tr>\n",
       "      <th>money_spent</th>\n",
       "      <td>11921.035714</td>\n",
       "      <td>13077.464286</td>\n",
       "      <td>1156.428571</td>\n",
       "      <td>0.248874</td>\n",
       "    </tr>\n",
       "    <tr>\n",
       "      <th>unique_user</th>\n",
       "      <td>273.178571</td>\n",
       "      <td>261.107143</td>\n",
       "      <td>-12.071429</td>\n",
       "      <td>0.368860</td>\n",
       "    </tr>\n",
       "  </tbody>\n",
       "</table>\n",
       "</div>"
      ],
      "text/plain": [
       "                         pre_mean     post_mean    mean_diff    pvalue\n",
       "country                                                               \n",
       "CA      no_purchase    177.142857    160.000000   -17.142857  0.233985\n",
       "        money_spent   7468.428571   7880.428571   412.000000  0.351704\n",
       "        unique_user    173.285714    159.178571   -14.107143  0.268256\n",
       "CH      no_purchase     26.821429     17.071429    -9.750000  0.003072\n",
       "        money_spent   1536.321429   1023.892857  -512.428571  0.006941\n",
       "        unique_user     26.714286     17.071429    -9.642857  0.003142\n",
       "DE      no_purchase    232.142857    164.035714   -68.107143  0.011798\n",
       "        money_spent   9856.750000   8013.964286 -1842.785714  0.081459\n",
       "        unique_user    224.964286    163.250000   -61.714286  0.015665\n",
       "ES      no_purchase    156.607143    194.500000    37.892857  0.072638\n",
       "        money_spent   6648.642857   8660.571429  2011.928571  0.037522\n",
       "        unique_user    153.392857    193.214286    39.821429  0.057954\n",
       "FR      no_purchase    244.142857    305.714286    61.571429  0.058996\n",
       "        money_spent  10385.250000  13635.000000  3249.750000  0.031843\n",
       "        unique_user    236.500000    302.535714    66.035714  0.041124\n",
       "IT      no_purchase    180.857143    227.928571    47.071429  0.057454\n",
       "        money_spent   7651.571429  10193.428571  2541.857143  0.025730\n",
       "        unique_user    176.535714    226.107143    49.571429  0.043911\n",
       "MX      no_purchase    126.464286    164.000000    37.535714  0.032430\n",
       "        money_spent   4975.464286   7033.214286  2057.750000  0.009670\n",
       "        unique_user    124.392857    163.107143    38.714286  0.026203\n",
       "UK      no_purchase    264.285714    289.035714    24.750000  0.261183\n",
       "        money_spent  11213.535714  14196.428571  2982.892857  0.048490\n",
       "        unique_user    255.571429    286.321429    30.750000  0.204398\n",
       "US      no_purchase    282.285714    263.428571   -18.857143  0.307801\n",
       "        money_spent  11921.035714  13077.464286  1156.428571  0.248874\n",
       "        unique_user    273.178571    261.107143   -12.071429  0.368860"
      ]
     },
     "execution_count": 59,
     "metadata": {},
     "output_type": "execute_result"
    }
   ],
   "source": [
    "data.groupby('country').apply(daily_stat)"
   ]
  },
  {
   "cell_type": "markdown",
   "metadata": {},
   "source": [
    "###  from the stats above, we can see that:\n",
    "the program fails in the stats of CH and DE, it significantly caused the sales down\n",
    "while it succeeded in the states of MX IT FR ES since it led their sales increased\n",
    "\n",
    "There is no effect in the rest states "
   ]
  },
  {
   "cell_type": "markdown",
   "metadata": {},
   "source": [
    "## Day-of-Week Analysis"
   ]
  },
  {
   "cell_type": "code",
   "execution_count": 61,
   "metadata": {},
   "outputs": [
    {
     "data": {
      "text/html": [
       "<div>\n",
       "<style scoped>\n",
       "    .dataframe tbody tr th:only-of-type {\n",
       "        vertical-align: middle;\n",
       "    }\n",
       "\n",
       "    .dataframe tbody tr th {\n",
       "        vertical-align: top;\n",
       "    }\n",
       "\n",
       "    .dataframe thead th {\n",
       "        text-align: right;\n",
       "    }\n",
       "</style>\n",
       "<table border=\"1\" class=\"dataframe\">\n",
       "  <thead>\n",
       "    <tr style=\"text-align: right;\">\n",
       "      <th></th>\n",
       "      <th></th>\n",
       "      <th>pre_mean</th>\n",
       "      <th>post_mean</th>\n",
       "      <th>mean_diff</th>\n",
       "      <th>pvalue</th>\n",
       "    </tr>\n",
       "    <tr>\n",
       "      <th>dateofweek</th>\n",
       "      <th></th>\n",
       "      <th></th>\n",
       "      <th></th>\n",
       "      <th></th>\n",
       "      <th></th>\n",
       "    </tr>\n",
       "  </thead>\n",
       "  <tbody>\n",
       "    <tr>\n",
       "      <th rowspan=\"3\" valign=\"top\">0</th>\n",
       "      <th>no_purchase</th>\n",
       "      <td>1159.75</td>\n",
       "      <td>1233.50</td>\n",
       "      <td>73.75</td>\n",
       "      <td>0.012484</td>\n",
       "    </tr>\n",
       "    <tr>\n",
       "      <th>money_spent</th>\n",
       "      <td>48356.50</td>\n",
       "      <td>57677.00</td>\n",
       "      <td>9320.50</td>\n",
       "      <td>0.000368</td>\n",
       "    </tr>\n",
       "    <tr>\n",
       "      <th>unique_user</th>\n",
       "      <td>1036.75</td>\n",
       "      <td>1190.25</td>\n",
       "      <td>153.50</td>\n",
       "      <td>0.000665</td>\n",
       "    </tr>\n",
       "    <tr>\n",
       "      <th rowspan=\"3\" valign=\"top\">1</th>\n",
       "      <th>no_purchase</th>\n",
       "      <td>1152.75</td>\n",
       "      <td>1200.50</td>\n",
       "      <td>47.75</td>\n",
       "      <td>0.156965</td>\n",
       "    </tr>\n",
       "    <tr>\n",
       "      <th>money_spent</th>\n",
       "      <td>49333.00</td>\n",
       "      <td>55473.25</td>\n",
       "      <td>6140.25</td>\n",
       "      <td>0.007701</td>\n",
       "    </tr>\n",
       "    <tr>\n",
       "      <th>unique_user</th>\n",
       "      <td>1026.50</td>\n",
       "      <td>1168.00</td>\n",
       "      <td>141.50</td>\n",
       "      <td>0.008802</td>\n",
       "    </tr>\n",
       "    <tr>\n",
       "      <th rowspan=\"3\" valign=\"top\">2</th>\n",
       "      <th>no_purchase</th>\n",
       "      <td>1104.00</td>\n",
       "      <td>1209.50</td>\n",
       "      <td>105.50</td>\n",
       "      <td>0.009713</td>\n",
       "    </tr>\n",
       "    <tr>\n",
       "      <th>money_spent</th>\n",
       "      <td>47302.00</td>\n",
       "      <td>57406.75</td>\n",
       "      <td>10104.75</td>\n",
       "      <td>0.000301</td>\n",
       "    </tr>\n",
       "    <tr>\n",
       "      <th>unique_user</th>\n",
       "      <td>987.50</td>\n",
       "      <td>1174.75</td>\n",
       "      <td>187.25</td>\n",
       "      <td>0.001270</td>\n",
       "    </tr>\n",
       "    <tr>\n",
       "      <th rowspan=\"3\" valign=\"top\">3</th>\n",
       "      <th>no_purchase</th>\n",
       "      <td>1148.75</td>\n",
       "      <td>1229.00</td>\n",
       "      <td>80.25</td>\n",
       "      <td>0.016584</td>\n",
       "    </tr>\n",
       "    <tr>\n",
       "      <th>money_spent</th>\n",
       "      <td>48445.00</td>\n",
       "      <td>57043.25</td>\n",
       "      <td>8598.25</td>\n",
       "      <td>0.000675</td>\n",
       "    </tr>\n",
       "    <tr>\n",
       "      <th>unique_user</th>\n",
       "      <td>1036.25</td>\n",
       "      <td>1190.25</td>\n",
       "      <td>154.00</td>\n",
       "      <td>0.002578</td>\n",
       "    </tr>\n",
       "    <tr>\n",
       "      <th rowspan=\"3\" valign=\"top\">4</th>\n",
       "      <th>no_purchase</th>\n",
       "      <td>1123.50</td>\n",
       "      <td>1200.50</td>\n",
       "      <td>77.00</td>\n",
       "      <td>0.016875</td>\n",
       "    </tr>\n",
       "    <tr>\n",
       "      <th>money_spent</th>\n",
       "      <td>48019.75</td>\n",
       "      <td>57138.50</td>\n",
       "      <td>9118.75</td>\n",
       "      <td>0.000595</td>\n",
       "    </tr>\n",
       "    <tr>\n",
       "      <th>unique_user</th>\n",
       "      <td>1014.25</td>\n",
       "      <td>1167.75</td>\n",
       "      <td>153.50</td>\n",
       "      <td>0.000683</td>\n",
       "    </tr>\n",
       "    <tr>\n",
       "      <th rowspan=\"3\" valign=\"top\">5</th>\n",
       "      <th>no_purchase</th>\n",
       "      <td>3052.00</td>\n",
       "      <td>3219.75</td>\n",
       "      <td>167.75</td>\n",
       "      <td>0.006828</td>\n",
       "    </tr>\n",
       "    <tr>\n",
       "      <th>money_spent</th>\n",
       "      <td>129109.25</td>\n",
       "      <td>150779.25</td>\n",
       "      <td>21670.00</td>\n",
       "      <td>0.000107</td>\n",
       "    </tr>\n",
       "    <tr>\n",
       "      <th>unique_user</th>\n",
       "      <td>2280.50</td>\n",
       "      <td>2967.75</td>\n",
       "      <td>687.25</td>\n",
       "      <td>0.000125</td>\n",
       "    </tr>\n",
       "    <tr>\n",
       "      <th rowspan=\"3\" valign=\"top\">6</th>\n",
       "      <th>no_purchase</th>\n",
       "      <td>3094.50</td>\n",
       "      <td>3207.25</td>\n",
       "      <td>112.75</td>\n",
       "      <td>0.011717</td>\n",
       "    </tr>\n",
       "    <tr>\n",
       "      <th>money_spent</th>\n",
       "      <td>131033.50</td>\n",
       "      <td>150482.75</td>\n",
       "      <td>19449.25</td>\n",
       "      <td>0.000133</td>\n",
       "    </tr>\n",
       "    <tr>\n",
       "      <th>unique_user</th>\n",
       "      <td>2309.50</td>\n",
       "      <td>2950.00</td>\n",
       "      <td>640.50</td>\n",
       "      <td>0.000012</td>\n",
       "    </tr>\n",
       "  </tbody>\n",
       "</table>\n",
       "</div>"
      ],
      "text/plain": [
       "                         pre_mean  post_mean  mean_diff    pvalue\n",
       "dateofweek                                                       \n",
       "0          no_purchase    1159.75    1233.50      73.75  0.012484\n",
       "           money_spent   48356.50   57677.00    9320.50  0.000368\n",
       "           unique_user    1036.75    1190.25     153.50  0.000665\n",
       "1          no_purchase    1152.75    1200.50      47.75  0.156965\n",
       "           money_spent   49333.00   55473.25    6140.25  0.007701\n",
       "           unique_user    1026.50    1168.00     141.50  0.008802\n",
       "2          no_purchase    1104.00    1209.50     105.50  0.009713\n",
       "           money_spent   47302.00   57406.75   10104.75  0.000301\n",
       "           unique_user     987.50    1174.75     187.25  0.001270\n",
       "3          no_purchase    1148.75    1229.00      80.25  0.016584\n",
       "           money_spent   48445.00   57043.25    8598.25  0.000675\n",
       "           unique_user    1036.25    1190.25     154.00  0.002578\n",
       "4          no_purchase    1123.50    1200.50      77.00  0.016875\n",
       "           money_spent   48019.75   57138.50    9118.75  0.000595\n",
       "           unique_user    1014.25    1167.75     153.50  0.000683\n",
       "5          no_purchase    3052.00    3219.75     167.75  0.006828\n",
       "           money_spent  129109.25  150779.25   21670.00  0.000107\n",
       "           unique_user    2280.50    2967.75     687.25  0.000125\n",
       "6          no_purchase    3094.50    3207.25     112.75  0.011717\n",
       "           money_spent  131033.50  150482.75   19449.25  0.000133\n",
       "           unique_user    2309.50    2950.00     640.50  0.000012"
      ]
     },
     "execution_count": 61,
     "metadata": {},
     "output_type": "execute_result"
    }
   ],
   "source": [
    "data.groupby('dateofweek').apply(daily_stat)"
   ]
  },
  {
   "cell_type": "code",
   "execution_count": null,
   "metadata": {},
   "outputs": [],
   "source": []
  }
 ],
 "metadata": {
  "kernelspec": {
   "display_name": "Python 3",
   "language": "python",
   "name": "python3"
  },
  "language_info": {
   "codemirror_mode": {
    "name": "ipython",
    "version": 3
   },
   "file_extension": ".py",
   "mimetype": "text/x-python",
   "name": "python",
   "nbconvert_exporter": "python",
   "pygments_lexer": "ipython3",
   "version": "3.6.8"
  }
 },
 "nbformat": 4,
 "nbformat_minor": 2
}
