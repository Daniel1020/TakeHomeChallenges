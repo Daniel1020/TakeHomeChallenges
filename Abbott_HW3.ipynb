{
 "cells": [
  {
   "cell_type": "code",
   "execution_count": 257,
   "metadata": {
    "slideshow": {
     "slide_type": "skip"
    }
   },
   "outputs": [],
   "source": [
    "import glob\n",
    "import os\n",
    "import pandas as pd\n",
    "import numpy as np\n",
    "from numpy import *\n",
    "import seaborn as sns\n",
    "import matplotlib.pyplot as plt\n",
    "import datetime as dt\n",
    "from datetime import date\n",
    "from scipy.stats import ttest_ind\n",
    "\n",
    "%matplotlib inline"
   ]
  },
  {
   "cell_type": "markdown",
   "metadata": {
    "slideshow": {
     "slide_type": "slide"
    }
   },
   "source": [
    "# Abbott Data Analyst/Data Engineer Challenge\n",
    "   by Daniel Liu"
   ]
  },
  {
   "cell_type": "code",
   "execution_count": 4,
   "metadata": {
    "slideshow": {
     "slide_type": "skip"
    }
   },
   "outputs": [
    {
     "data": {
      "text/plain": [
       "'/Users/Daniel1020/Documents/Business Analytics/Python/Project'"
      ]
     },
     "execution_count": 4,
     "metadata": {},
     "output_type": "execute_result"
    }
   ],
   "source": [
    "os.getcwd()"
   ]
  },
  {
   "cell_type": "code",
   "execution_count": 5,
   "metadata": {
    "slideshow": {
     "slide_type": "skip"
    }
   },
   "outputs": [],
   "source": [
    "os.chdir('/Users/Daniel1020/Downloads/hw3')"
   ]
  },
  {
   "cell_type": "code",
   "execution_count": null,
   "metadata": {
    "slideshow": {
     "slide_type": "slide"
    }
   },
   "outputs": [],
   "source": [
    "##Load data "
   ]
  },
  {
   "cell_type": "code",
   "execution_count": 63,
   "metadata": {
    "slideshow": {
     "slide_type": "fragment"
    }
   },
   "outputs": [
    {
     "name": "stderr",
     "output_type": "stream",
     "text": [
      "/anaconda3/lib/python3.6/site-packages/ipykernel_launcher.py:1: FutureWarning: Sorting because non-concatenation axis is not aligned. A future version\n",
      "of pandas will change to not sort by default.\n",
      "\n",
      "To accept the future behavior, pass 'sort=False'.\n",
      "\n",
      "To retain the current behavior and silence the warning, pass 'sort=True'.\n",
      "\n",
      "  \"\"\"Entry point for launching an IPython kernel.\n"
     ]
    }
   ],
   "source": [
    "df_a = pd.concat([pd.read_csv(f) for f in glob.glob('radiation_physician_A*.csv')], ignore_index = True)"
   ]
  },
  {
   "cell_type": "code",
   "execution_count": 60,
   "metadata": {
    "slideshow": {
     "slide_type": "skip"
    }
   },
   "outputs": [
    {
     "name": "stdout",
     "output_type": "stream",
     "text": [
      "<class 'pandas.core.frame.DataFrame'>\n",
      "RangeIndex: 18076 entries, 0 to 18075\n",
      "Data columns (total 8 columns):\n",
      "Accumulated Dose [mSv]    3345 non-null float64\n",
      "Accumulated Dose [µSv]    14731 non-null float64\n",
      "Dose Rate [mSv/h]         18052 non-null float64\n",
      "Dose Rate [µSv/h]         24 non-null float64\n",
      "End Time                  18076 non-null object\n",
      "Start Time                18076 non-null object\n",
      "Accumulated Dose          18076 non-null float64\n",
      "physician                 18076 non-null object\n",
      "dtypes: float64(5), object(3)\n",
      "memory usage: 1.1+ MB\n"
     ]
    }
   ],
   "source": [
    "df_a.info()"
   ]
  },
  {
   "cell_type": "code",
   "execution_count": 68,
   "metadata": {
    "slideshow": {
     "slide_type": "fragment"
    }
   },
   "outputs": [],
   "source": [
    "df_a['Accumulated Dose']=df_a.fillna(0)['Accumulated Dose [mSv]']*1000+df_a.fillna(0)['Accumulated Dose [µSv]']\n",
    "df_a['Dose Rate']=df_a.fillna(0)['Dose Rate [mSv/h]']*1000+df_a.fillna(0)['Dose Rate [µSv/h]']\n",
    "df_a['Physician']='A'"
   ]
  },
  {
   "cell_type": "code",
   "execution_count": 73,
   "metadata": {
    "slideshow": {
     "slide_type": "fragment"
    }
   },
   "outputs": [
    {
     "data": {
      "text/html": [
       "<div>\n",
       "<style scoped>\n",
       "    .dataframe tbody tr th:only-of-type {\n",
       "        vertical-align: middle;\n",
       "    }\n",
       "\n",
       "    .dataframe tbody tr th {\n",
       "        vertical-align: top;\n",
       "    }\n",
       "\n",
       "    .dataframe thead th {\n",
       "        text-align: right;\n",
       "    }\n",
       "</style>\n",
       "<table border=\"1\" class=\"dataframe\">\n",
       "  <thead>\n",
       "    <tr style=\"text-align: right;\">\n",
       "      <th></th>\n",
       "      <th>End Time</th>\n",
       "      <th>Start Time</th>\n",
       "      <th>Accumulated Dose</th>\n",
       "      <th>Dose Rate</th>\n",
       "      <th>Physician</th>\n",
       "    </tr>\n",
       "  </thead>\n",
       "  <tbody>\n",
       "    <tr>\n",
       "      <th>0</th>\n",
       "      <td>1/16/2019 10:00:00 PM</td>\n",
       "      <td>1/16/2019 09:00:00 PM</td>\n",
       "      <td>468.07</td>\n",
       "      <td>0.0</td>\n",
       "      <td>A</td>\n",
       "    </tr>\n",
       "    <tr>\n",
       "      <th>1</th>\n",
       "      <td>1/16/2019 11:00:00 PM</td>\n",
       "      <td>1/16/2019 10:00:00 PM</td>\n",
       "      <td>468.07</td>\n",
       "      <td>0.0</td>\n",
       "      <td>A</td>\n",
       "    </tr>\n",
       "    <tr>\n",
       "      <th>2</th>\n",
       "      <td>1/17/2019 12:00:00 AM</td>\n",
       "      <td>1/16/2019 11:00:00 PM</td>\n",
       "      <td>468.07</td>\n",
       "      <td>0.0</td>\n",
       "      <td>A</td>\n",
       "    </tr>\n",
       "    <tr>\n",
       "      <th>3</th>\n",
       "      <td>1/17/2019 01:00:00 AM</td>\n",
       "      <td>1/17/2019 12:00:00 AM</td>\n",
       "      <td>468.07</td>\n",
       "      <td>0.0</td>\n",
       "      <td>A</td>\n",
       "    </tr>\n",
       "    <tr>\n",
       "      <th>4</th>\n",
       "      <td>1/17/2019 02:00:00 AM</td>\n",
       "      <td>1/17/2019 01:00:00 AM</td>\n",
       "      <td>468.07</td>\n",
       "      <td>0.0</td>\n",
       "      <td>A</td>\n",
       "    </tr>\n",
       "  </tbody>\n",
       "</table>\n",
       "</div>"
      ],
      "text/plain": [
       "                End Time             Start Time  Accumulated Dose  Dose Rate  \\\n",
       "0  1/16/2019 10:00:00 PM  1/16/2019 09:00:00 PM            468.07        0.0   \n",
       "1  1/16/2019 11:00:00 PM  1/16/2019 10:00:00 PM            468.07        0.0   \n",
       "2  1/17/2019 12:00:00 AM  1/16/2019 11:00:00 PM            468.07        0.0   \n",
       "3  1/17/2019 01:00:00 AM  1/17/2019 12:00:00 AM            468.07        0.0   \n",
       "4  1/17/2019 02:00:00 AM  1/17/2019 01:00:00 AM            468.07        0.0   \n",
       "\n",
       "  Physician  \n",
       "0         A  \n",
       "1         A  \n",
       "2         A  \n",
       "3         A  \n",
       "4         A  "
      ]
     },
     "execution_count": 73,
     "metadata": {},
     "output_type": "execute_result"
    }
   ],
   "source": [
    "df_a_new=df_a[['End Time','Start Time','Accumulated Dose','Dose Rate','Physician']]"
   ]
  },
  {
   "cell_type": "code",
   "execution_count": 52,
   "metadata": {
    "slideshow": {
     "slide_type": "fragment"
    }
   },
   "outputs": [
    {
     "name": "stderr",
     "output_type": "stream",
     "text": [
      "/anaconda3/lib/python3.6/site-packages/ipykernel_launcher.py:1: FutureWarning: Sorting because non-concatenation axis is not aligned. A future version\n",
      "of pandas will change to not sort by default.\n",
      "\n",
      "To accept the future behavior, pass 'sort=False'.\n",
      "\n",
      "To retain the current behavior and silence the warning, pass 'sort=True'.\n",
      "\n",
      "  \"\"\"Entry point for launching an IPython kernel.\n"
     ]
    }
   ],
   "source": [
    "df_b = pd.concat([pd.read_csv(f) for f in glob.glob('radiation_physician_B*.csv')], ignore_index = False)"
   ]
  },
  {
   "cell_type": "code",
   "execution_count": 67,
   "metadata": {
    "slideshow": {
     "slide_type": "skip"
    }
   },
   "outputs": [
    {
     "name": "stdout",
     "output_type": "stream",
     "text": [
      "<class 'pandas.core.frame.DataFrame'>\n",
      "Int64Index: 11187 entries, 0 to 1226\n",
      "Data columns (total 5 columns):\n",
      "Accumulated Dose [µSv]    11187 non-null float64\n",
      "Dose Rate [mSv/h]         10011 non-null float64\n",
      "Dose Rate [µSv/h]         1176 non-null float64\n",
      "End Time                  11187 non-null object\n",
      "Start Time                11187 non-null object\n",
      "dtypes: float64(3), object(2)\n",
      "memory usage: 524.4+ KB\n"
     ]
    }
   ],
   "source": [
    "df_b.info()"
   ]
  },
  {
   "cell_type": "code",
   "execution_count": 70,
   "metadata": {
    "slideshow": {
     "slide_type": "fragment"
    }
   },
   "outputs": [],
   "source": [
    "df_b['Accumulated Dose']=df_b.fillna(0)['Accumulated Dose [µSv]']\n",
    "df_b['Dose Rate']=df_b.fillna(0)['Dose Rate [mSv/h]']*1000+df_b.fillna(0)['Dose Rate [µSv/h]']\n",
    "df_b['Physician']='B'"
   ]
  },
  {
   "cell_type": "code",
   "execution_count": 74,
   "metadata": {
    "slideshow": {
     "slide_type": "skip"
    }
   },
   "outputs": [],
   "source": [
    "df_b_new=df_b[['End Time','Start Time','Accumulated Dose','Dose Rate','Physician']]"
   ]
  },
  {
   "cell_type": "code",
   "execution_count": 86,
   "metadata": {
    "slideshow": {
     "slide_type": "fragment"
    }
   },
   "outputs": [],
   "source": [
    "data_tot=pd.concat([df_a_new,df_b_new])\n"
   ]
  },
  {
   "cell_type": "code",
   "execution_count": 88,
   "metadata": {
    "slideshow": {
     "slide_type": "skip"
    }
   },
   "outputs": [
    {
     "name": "stdout",
     "output_type": "stream",
     "text": [
      "<class 'pandas.core.frame.DataFrame'>\n",
      "Int64Index: 29263 entries, 0 to 1226\n",
      "Data columns (total 5 columns):\n",
      "End Time            29263 non-null object\n",
      "Start Time          29263 non-null object\n",
      "Accumulated Dose    29263 non-null float64\n",
      "Dose Rate           29263 non-null float64\n",
      "Physician           29263 non-null object\n",
      "dtypes: float64(2), object(3)\n",
      "memory usage: 1.3+ MB\n"
     ]
    }
   ],
   "source": [
    "data_tot.info()"
   ]
  },
  {
   "cell_type": "code",
   "execution_count": null,
   "metadata": {
    "slideshow": {
     "slide_type": "slide"
    }
   },
   "outputs": [],
   "source": [
    "#Question 1\n",
    "## Maximum Accumulated Dose for Each Pysician"
   ]
  },
  {
   "cell_type": "code",
   "execution_count": 100,
   "metadata": {
    "slideshow": {
     "slide_type": "fragment"
    }
   },
   "outputs": [],
   "source": [
    "data_tot['Start Time']=pd.to_datetime(data_tot['Start Time'])\n",
    "data_tot['End Time']=pd.to_datetime(data_tot['End Time'])"
   ]
  },
  {
   "cell_type": "code",
   "execution_count": 139,
   "metadata": {
    "slideshow": {
     "slide_type": "fragment"
    }
   },
   "outputs": [],
   "source": [
    "idx=data_tot.groupby(['Physician'])['Accumulated Dose'].transform(max)==data_tot['Accumulated Dose']\n",
    "max_accumulated_dose=data_tot[idx]"
   ]
  },
  {
   "cell_type": "code",
   "execution_count": 271,
   "metadata": {
    "slideshow": {
     "slide_type": "subslide"
    }
   },
   "outputs": [],
   "source": [
    "\n",
    "##Conclusion: For physician A, 02/07/2019 is the date when  the accumulated dose went to maxumum.\n",
    "##          It is 02/08/2019 for pysician B to get the maximum acculmulated dose."
   ]
  },
  {
   "cell_type": "code",
   "execution_count": null,
   "metadata": {
    "slideshow": {
     "slide_type": "slide"
    }
   },
   "outputs": [],
   "source": [
    "#Question 2\n",
    "##Visualization"
   ]
  },
  {
   "cell_type": "code",
   "execution_count": 172,
   "metadata": {
    "slideshow": {
     "slide_type": "skip"
    }
   },
   "outputs": [
    {
     "data": {
      "text/html": [
       "<div>\n",
       "<style scoped>\n",
       "    .dataframe tbody tr th:only-of-type {\n",
       "        vertical-align: middle;\n",
       "    }\n",
       "\n",
       "    .dataframe tbody tr th {\n",
       "        vertical-align: top;\n",
       "    }\n",
       "\n",
       "    .dataframe thead th {\n",
       "        text-align: right;\n",
       "    }\n",
       "</style>\n",
       "<table border=\"1\" class=\"dataframe\">\n",
       "  <thead>\n",
       "    <tr style=\"text-align: right;\">\n",
       "      <th></th>\n",
       "      <th>End Time</th>\n",
       "      <th>Start Time</th>\n",
       "      <th>Accumulated Dose</th>\n",
       "      <th>Dose Rate</th>\n",
       "      <th>Physician</th>\n",
       "      <th>date</th>\n",
       "      <th>Start Date</th>\n",
       "    </tr>\n",
       "  </thead>\n",
       "  <tbody>\n",
       "    <tr>\n",
       "      <th>0</th>\n",
       "      <td>2019-01-16 22:00:00</td>\n",
       "      <td>2019-01-16 21:00:00</td>\n",
       "      <td>468.07</td>\n",
       "      <td>0.0</td>\n",
       "      <td>A</td>\n",
       "      <td>2019-01-16 21:00:00</td>\n",
       "      <td>2019-01-16</td>\n",
       "    </tr>\n",
       "    <tr>\n",
       "      <th>1</th>\n",
       "      <td>2019-01-16 23:00:00</td>\n",
       "      <td>2019-01-16 22:00:00</td>\n",
       "      <td>468.07</td>\n",
       "      <td>0.0</td>\n",
       "      <td>A</td>\n",
       "      <td>2019-01-16 22:00:00</td>\n",
       "      <td>2019-01-16</td>\n",
       "    </tr>\n",
       "    <tr>\n",
       "      <th>2</th>\n",
       "      <td>2019-01-17 00:00:00</td>\n",
       "      <td>2019-01-16 23:00:00</td>\n",
       "      <td>468.07</td>\n",
       "      <td>0.0</td>\n",
       "      <td>A</td>\n",
       "      <td>2019-01-16 23:00:00</td>\n",
       "      <td>2019-01-16</td>\n",
       "    </tr>\n",
       "    <tr>\n",
       "      <th>3</th>\n",
       "      <td>2019-01-17 01:00:00</td>\n",
       "      <td>2019-01-17 00:00:00</td>\n",
       "      <td>468.07</td>\n",
       "      <td>0.0</td>\n",
       "      <td>A</td>\n",
       "      <td>2019-01-17 00:00:00</td>\n",
       "      <td>2019-01-17</td>\n",
       "    </tr>\n",
       "    <tr>\n",
       "      <th>4</th>\n",
       "      <td>2019-01-17 02:00:00</td>\n",
       "      <td>2019-01-17 01:00:00</td>\n",
       "      <td>468.07</td>\n",
       "      <td>0.0</td>\n",
       "      <td>A</td>\n",
       "      <td>2019-01-17 01:00:00</td>\n",
       "      <td>2019-01-17</td>\n",
       "    </tr>\n",
       "  </tbody>\n",
       "</table>\n",
       "</div>"
      ],
      "text/plain": [
       "             End Time          Start Time  Accumulated Dose  Dose Rate  \\\n",
       "0 2019-01-16 22:00:00 2019-01-16 21:00:00            468.07        0.0   \n",
       "1 2019-01-16 23:00:00 2019-01-16 22:00:00            468.07        0.0   \n",
       "2 2019-01-17 00:00:00 2019-01-16 23:00:00            468.07        0.0   \n",
       "3 2019-01-17 01:00:00 2019-01-17 00:00:00            468.07        0.0   \n",
       "4 2019-01-17 02:00:00 2019-01-17 01:00:00            468.07        0.0   \n",
       "\n",
       "  Physician                date  Start Date  \n",
       "0         A 2019-01-16 21:00:00  2019-01-16  \n",
       "1         A 2019-01-16 22:00:00  2019-01-16  \n",
       "2         A 2019-01-16 23:00:00  2019-01-16  \n",
       "3         A 2019-01-17 00:00:00  2019-01-17  \n",
       "4         A 2019-01-17 01:00:00  2019-01-17  "
      ]
     },
     "execution_count": 172,
     "metadata": {},
     "output_type": "execute_result"
    }
   ],
   "source": [
    "data_tot.head()"
   ]
  },
  {
   "cell_type": "code",
   "execution_count": 162,
   "metadata": {
    "slideshow": {
     "slide_type": "fragment"
    }
   },
   "outputs": [],
   "source": [
    "data_tot['Start Date']=data_tot['Start Time'].dt.date"
   ]
  },
  {
   "cell_type": "code",
   "execution_count": 243,
   "metadata": {
    "slideshow": {
     "slide_type": "fragment"
    }
   },
   "outputs": [],
   "source": [
    "data_a_question2=data_tot[(data_tot['Start Date']==dt.date(2019,2,7))& (data_tot['Physician']=='A')] \n",
    "data_b_question2=data_tot[(data_tot['Start Date']==dt.date(2019,2,8))& (data_tot['Physician']=='B')]\n",
    "data_question2=pd.concat([data_a_question2,data_b_question2])\n",
    "data_question2['Time Series']=data_question2['Start Time'].dt.strftime ('%H:%M:%S')           "
   ]
  },
  {
   "cell_type": "code",
   "execution_count": 244,
   "metadata": {
    "slideshow": {
     "slide_type": "skip"
    }
   },
   "outputs": [
    {
     "data": {
      "text/html": [
       "<div>\n",
       "<style scoped>\n",
       "    .dataframe tbody tr th:only-of-type {\n",
       "        vertical-align: middle;\n",
       "    }\n",
       "\n",
       "    .dataframe tbody tr th {\n",
       "        vertical-align: top;\n",
       "    }\n",
       "\n",
       "    .dataframe thead th {\n",
       "        text-align: right;\n",
       "    }\n",
       "</style>\n",
       "<table border=\"1\" class=\"dataframe\">\n",
       "  <thead>\n",
       "    <tr style=\"text-align: right;\">\n",
       "      <th></th>\n",
       "      <th>End Time</th>\n",
       "      <th>Start Time</th>\n",
       "      <th>Accumulated Dose</th>\n",
       "      <th>Dose Rate</th>\n",
       "      <th>Physician</th>\n",
       "      <th>date</th>\n",
       "      <th>Start Date</th>\n",
       "      <th>Time Series</th>\n",
       "    </tr>\n",
       "  </thead>\n",
       "  <tbody>\n",
       "    <tr>\n",
       "      <th>9639</th>\n",
       "      <td>2019-02-07 01:00:00</td>\n",
       "      <td>2019-02-07 00:00:00</td>\n",
       "      <td>1180.0</td>\n",
       "      <td>0.0</td>\n",
       "      <td>A</td>\n",
       "      <td>2019-02-07 00:00:00</td>\n",
       "      <td>2019-02-07</td>\n",
       "      <td>00:00:00</td>\n",
       "    </tr>\n",
       "    <tr>\n",
       "      <th>9640</th>\n",
       "      <td>2019-02-07 02:00:00</td>\n",
       "      <td>2019-02-07 01:00:00</td>\n",
       "      <td>1180.0</td>\n",
       "      <td>0.0</td>\n",
       "      <td>A</td>\n",
       "      <td>2019-02-07 01:00:00</td>\n",
       "      <td>2019-02-07</td>\n",
       "      <td>01:00:00</td>\n",
       "    </tr>\n",
       "    <tr>\n",
       "      <th>9641</th>\n",
       "      <td>2019-02-07 03:00:00</td>\n",
       "      <td>2019-02-07 02:00:00</td>\n",
       "      <td>1180.0</td>\n",
       "      <td>0.0</td>\n",
       "      <td>A</td>\n",
       "      <td>2019-02-07 02:00:00</td>\n",
       "      <td>2019-02-07</td>\n",
       "      <td>02:00:00</td>\n",
       "    </tr>\n",
       "    <tr>\n",
       "      <th>9642</th>\n",
       "      <td>2019-02-07 03:43:13</td>\n",
       "      <td>2019-02-07 03:00:00</td>\n",
       "      <td>1180.0</td>\n",
       "      <td>0.0</td>\n",
       "      <td>A</td>\n",
       "      <td>2019-02-07 03:00:00</td>\n",
       "      <td>2019-02-07</td>\n",
       "      <td>03:00:00</td>\n",
       "    </tr>\n",
       "    <tr>\n",
       "      <th>9643</th>\n",
       "      <td>2019-02-07 03:43:14</td>\n",
       "      <td>2019-02-07 03:43:13</td>\n",
       "      <td>1180.0</td>\n",
       "      <td>70.0</td>\n",
       "      <td>A</td>\n",
       "      <td>2019-02-07 03:43:13</td>\n",
       "      <td>2019-02-07</td>\n",
       "      <td>03:43:13</td>\n",
       "    </tr>\n",
       "  </tbody>\n",
       "</table>\n",
       "</div>"
      ],
      "text/plain": [
       "                End Time          Start Time  Accumulated Dose  Dose Rate  \\\n",
       "9639 2019-02-07 01:00:00 2019-02-07 00:00:00            1180.0        0.0   \n",
       "9640 2019-02-07 02:00:00 2019-02-07 01:00:00            1180.0        0.0   \n",
       "9641 2019-02-07 03:00:00 2019-02-07 02:00:00            1180.0        0.0   \n",
       "9642 2019-02-07 03:43:13 2019-02-07 03:00:00            1180.0        0.0   \n",
       "9643 2019-02-07 03:43:14 2019-02-07 03:43:13            1180.0       70.0   \n",
       "\n",
       "     Physician                date  Start Date Time Series  \n",
       "9639         A 2019-02-07 00:00:00  2019-02-07    00:00:00  \n",
       "9640         A 2019-02-07 01:00:00  2019-02-07    01:00:00  \n",
       "9641         A 2019-02-07 02:00:00  2019-02-07    02:00:00  \n",
       "9642         A 2019-02-07 03:00:00  2019-02-07    03:00:00  \n",
       "9643         A 2019-02-07 03:43:13  2019-02-07    03:43:13  "
      ]
     },
     "execution_count": 244,
     "metadata": {},
     "output_type": "execute_result"
    }
   ],
   "source": [
    "data_question2.head()"
   ]
  },
  {
   "cell_type": "code",
   "execution_count": 240,
   "metadata": {
    "slideshow": {
     "slide_type": "slide"
    }
   },
   "outputs": [
    {
     "data": {
      "text/plain": [
       "<matplotlib.legend.Legend at 0x1a1d3704e0>"
      ]
     },
     "execution_count": 240,
     "metadata": {},
     "output_type": "execute_result"
    },
    {
     "data": {
      "image/png": "[encoded data removed]",
      "text/plain": [
       "<Figure size 1296x432 with 1 Axes>"
      ]
     },
     "metadata": {},
     "output_type": "display_data"
    }
   ],
   "source": [
    "fig,ax=plt.subplots(figsize=(18,6))\n",
    "\n",
    "data_question2.groupby('Physician').plot(x='Time Series',y='Accumulated Dose',marker='o',ax=ax)\n",
    "ax.legend(['Physician A','Physician B'])"
   ]
  },
  {
   "cell_type": "code",
   "execution_count": null,
   "metadata": {
    "slideshow": {
     "slide_type": "subslide"
    }
   },
   "outputs": [],
   "source": [
    "## Findings: It seems that the accumulated dose for physician B remains steady in this specific day, while \n",
    "##           there is slight fluctuent increase for physician A."
   ]
  },
  {
   "cell_type": "code",
   "execution_count": 250,
   "metadata": {
    "slideshow": {
     "slide_type": "slide"
    }
   },
   "outputs": [
    {
     "name": "stderr",
     "output_type": "stream",
     "text": [
      "/anaconda3/lib/python3.6/site-packages/ipykernel_launcher.py:2: RuntimeWarning: divide by zero encountered in log\n",
      "  \n"
     ]
    }
   ],
   "source": [
    "#Question 3\n",
    "data_question2['log_doserate']=np.log(data_question2['Dose Rate'])"
   ]
  },
  {
   "cell_type": "code",
   "execution_count": 256,
   "metadata": {
    "slideshow": {
     "slide_type": "subslide"
    }
   },
   "outputs": [
    {
     "data": {
      "image/png": "[encoded data removed]",
      "text/plain": [
       "<Figure size 1296x432 with 1 Axes>"
      ]
     },
     "metadata": {},
     "output_type": "display_data"
    }
   ],
   "source": [
    "fig,ax=plt.subplots(figsize=(18,6))\n",
    "\n",
    "data_question2.groupby('Physician').plot(x='Time Series',y='log_doserate',marker='o',ax=ax)\n",
    "ax.legend(['Physician A','Physician B'])\n",
    "plt.show()"
   ]
  },
  {
   "cell_type": "code",
   "execution_count": null,
   "metadata": {
    "slideshow": {
     "slide_type": "subslide"
    }
   },
   "outputs": [],
   "source": [
    "## Findings: In the early time of that 02/08/2019, the dose rate for physician B gose up significantly which is even higher than physician A, and keeps comparablely stable in the rest ime.\n",
    "## However,  the dose rate changes frequently and has a average rate than physicain B."
   ]
  },
  {
   "cell_type": "code",
   "execution_count": 252,
   "metadata": {
    "slideshow": {
     "slide_type": "slide"
    }
   },
   "outputs": [],
   "source": [
    "#Question 4:"
   ]
  },
  {
   "cell_type": "code",
   "execution_count": 253,
   "metadata": {
    "slideshow": {
     "slide_type": "skip"
    }
   },
   "outputs": [
    {
     "name": "stdout",
     "output_type": "stream",
     "text": [
      "<class 'pandas.core.frame.DataFrame'>\n",
      "Int64Index: 29263 entries, 0 to 1226\n",
      "Data columns (total 7 columns):\n",
      "End Time            29263 non-null datetime64[ns]\n",
      "Start Time          29263 non-null datetime64[ns]\n",
      "Accumulated Dose    29263 non-null float64\n",
      "Dose Rate           29263 non-null float64\n",
      "Physician           29263 non-null object\n",
      "date                29263 non-null datetime64[ns]\n",
      "Start Date          29263 non-null object\n",
      "dtypes: datetime64[ns](3), float64(2), object(2)\n",
      "memory usage: 2.4+ MB\n"
     ]
    }
   ],
   "source": [
    "data_tot.info()"
   ]
  },
  {
   "cell_type": "code",
   "execution_count": 254,
   "metadata": {
    "slideshow": {
     "slide_type": "subslide"
    }
   },
   "outputs": [
    {
     "data": {
      "text/plain": [
       "<matplotlib.legend.Legend at 0x1a1d72b748>"
      ]
     },
     "execution_count": 254,
     "metadata": {},
     "output_type": "execute_result"
    },
    {
     "data": {
      "image/png": "[encoded data removed]",
      "text/plain": [
       "<Figure size 1296x432 with 1 Axes>"
      ]
     },
     "metadata": {},
     "output_type": "display_data"
    }
   ],
   "source": [
    "fig,ax=plt.subplots(figsize=(18,6))\n",
    "\n",
    "data_tot.groupby('Physician').plot(x='Start Date',y='Accumulated Dose',marker='o',ax=ax)\n",
    "ax.legend(['Physician A','Physician B'])"
   ]
  },
  {
   "cell_type": "code",
   "execution_count": null,
   "metadata": {
    "slideshow": {
     "slide_type": "subslide"
    }
   },
   "outputs": [],
   "source": [
    "##Findings: Generally to say,Physician A gets more dadiation (accumulates dose ) than the other which could be explored using hypothesis experiment, and has a large vairability over days.\n",
    "##          Physician B has a lower level to radiation exposore, and maitians the same time series trend with physician A."
   ]
  },
  {
   "cell_type": "code",
   "execution_count": null,
   "metadata": {
    "slideshow": {
     "slide_type": "slide"
    }
   },
   "outputs": [],
   "source": [
    "## Question 5 \n",
    "## Check if difference of radiation exposure is statistically significant"
   ]
  },
  {
   "cell_type": "code",
   "execution_count": null,
   "metadata": {
    "slideshow": {
     "slide_type": "subslide"
    }
   },
   "outputs": [],
   "source": [
    "## First, let's see the average level of 'Accumulated Dose'"
   ]
  },
  {
   "cell_type": "code",
   "execution_count": 263,
   "metadata": {
    "slideshow": {
     "slide_type": "fragment"
    }
   },
   "outputs": [
    {
     "name": "stdout",
     "output_type": "stream",
     "text": [
      "The average 'Accumulated Dose of Physician A is: 524.1884980084089\n",
      "The average 'Accumulated Dose of Physician B is: 211.9524921784215\n"
     ]
    }
   ],
   "source": [
    "physician_a=data_tot[data_tot['Physician']=='A']\n",
    "physician_b=data_tot[data_tot['Physician']=='B']\n",
    "print (\"The average 'Accumulated Dose of Physician A is:\", physician_a['Accumulated Dose'].mean())\n",
    "print (\"The average 'Accumulated Dose of Physician B is:\", physician_b['Accumulated Dose'].mean())"
   ]
  },
  {
   "cell_type": "code",
   "execution_count": null,
   "metadata": {
    "slideshow": {
     "slide_type": "subslide"
    }
   },
   "outputs": [],
   "source": [
    "## The average values of Accumulated Dose tell us physician A is much more exposed to radiation that B.\n",
    "##  Which is also demonstrated on the above chart."
   ]
  },
  {
   "cell_type": "code",
   "execution_count": 264,
   "metadata": {
    "slideshow": {
     "slide_type": "subslide"
    }
   },
   "outputs": [
    {
     "data": {
      "text/plain": [
       "Ttest_indResult(statistic=116.2425387245709, pvalue=0.0)"
      ]
     },
     "execution_count": 264,
     "metadata": {},
     "output_type": "execute_result"
    }
   ],
   "source": [
    "## Two Sample T test \n",
    "ttest_ind(physician_a['Accumulated Dose'],physician_b['Accumulated Dose'],equal_var=False)"
   ]
  },
  {
   "cell_type": "code",
   "execution_count": null,
   "metadata": {
    "slideshow": {
     "slide_type": "subslide"
    }
   },
   "outputs": [],
   "source": [
    "# Conclusion: P value is less than 0.05 which means we failed to reject the null hypothesis , \n",
    "## and it shows the average value between two physicians differs significantly even with holding 95% confidence interval.\n"
   ]
  }
 ],
 "metadata": {
  "celltoolbar": "Slideshow",
  "kernelspec": {
   "display_name": "Python 3",
   "language": "python",
   "name": "python3"
  },
  "language_info": {
   "codemirror_mode": {
    "name": "ipython",
    "version": 3
   },
   "file_extension": ".py",
   "mimetype": "text/x-python",
   "name": "python",
   "nbconvert_exporter": "python",
   "pygments_lexer": "ipython3",
   "version": "3.6.4"
  }
 },
 "nbformat": 4,
 "nbformat_minor": 2
}
